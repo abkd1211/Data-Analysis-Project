{
 "cells": [
  {
   "cell_type": "markdown",
   "id": "08409e9a-434d-4a91-88f1-d28bd183d8ba",
   "metadata": {},
   "source": [
    "## Asare Baffour King David\n",
    "## 11296641\n",
    "## Computer Engineering"
   ]
  },
  {
   "cell_type": "code",
   "execution_count": null,
   "id": "3d96fbfc-d8da-4bad-b4ca-3e79f221b5a3",
   "metadata": {},
   "outputs": [],
   "source": [
    "import pandas as pd\n",
    "import numpy as np\n",
    "import matplotlib as mp"
   ]
  }
 ],
 "metadata": {
  "kernelspec": {
   "display_name": "Python 3 (ipykernel)",
   "language": "python",
   "name": "python3"
  },
  "language_info": {
   "codemirror_mode": {
    "name": "ipython",
    "version": 3
   },
   "file_extension": ".py",
   "mimetype": "text/x-python",
   "name": "python",
   "nbconvert_exporter": "python",
   "pygments_lexer": "ipython3",
   "version": "3.11.3"
  }
 },
 "nbformat": 4,
 "nbformat_minor": 5
}
